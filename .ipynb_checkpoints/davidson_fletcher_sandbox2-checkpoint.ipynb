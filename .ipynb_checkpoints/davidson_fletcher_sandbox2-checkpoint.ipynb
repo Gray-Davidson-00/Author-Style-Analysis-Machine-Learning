{
 "cells": [
  {
   "cell_type": "code",
   "execution_count": 1,
   "metadata": {},
   "outputs": [],
   "source": [
    "import re\n",
    "import os\n",
    "\n",
    "import pandas as pd\n",
    "\n",
    "from gensim.models import Word2Vec\n",
    "from gensim.utils import simple_preprocess\n",
    "\n",
    "from sklearn.decomposition import PCA\n",
    "from sklearn.cluster import KMeans\n",
    "\n",
    "from matplotlib import pyplot\n"
   ]
  },
  {
   "cell_type": "code",
   "execution_count": 30,
   "metadata": {},
   "outputs": [],
   "source": [
    "data_folder = 'data/short_data/'\n",
    "just_one_test_file = 'data/short_data/fotr_short2.txt'"
   ]
  },
  {
   "cell_type": "code",
   "execution_count": 55,
   "metadata": {},
   "outputs": [],
   "source": [
    "def text_simplifier(one_file_path):\n",
    "    \"\"\"\n",
    "    :Purpose: To take a filepath and return a cleaned string of all the text contained inside.  This is not a complete pre-processing or tokenization.  \n",
    "    \n",
    "    \n",
    "    :param one_file_path: a string which is a path to one file where text is stored. \n",
    "    :type one_file_path: string\n",
    "    \n",
    "    :return: all the text from the file without any extra whitespace, newlines, headers, etc. separated out into strings, each of which contains three sentences. \n",
    "    :return type: list of strings\n",
    "    \"\"\"\n",
    "    \n",
    "    # a regex to keep only the alphabetical characters (and periods).  Remove the \"\\.\" to remove periods also. \n",
    "    stripper = re.compile('[^a-zA-Z\\.]') \n",
    "\n",
    "    lines = [line.rstrip('\\n') for line in open(one_file_path)]\n",
    "    stripped_lines = []\n",
    "    for line in lines:\n",
    "        stripped_line = stripper.sub(' ', line)\n",
    "        stripped_lines.append(stripped_line)\n",
    "    stripped_lines = stripped_lines[10:]\n",
    "\n",
    "    cleaned_lines = list(filter(lambda x: x != ' uc  u      ', stripped_lines))\n",
    "    combined_clean = ' '.join(cleaned_lines)\n",
    "    white_stripped_clean = ' '.join(combined_clean.split())\n",
    "    as_list = white_stripped_clean.split(\".\")\n",
    "    set_of_three = [as_list[i:i+3] for i in range(0,len(as_list),3)]\n",
    "    \n",
    "    three_joined = [\"\".join(sublist) for sublist in set_of_three]\n",
    "            \n",
    "    return three_joined\n"
   ]
  },
  {
   "cell_type": "code",
   "execution_count": 56,
   "metadata": {},
   "outputs": [
    {
     "data": {
      "text/plain": [
       "['It will do well if it ever comes to that said Frodo Ah said Sam And where will they live That s what I often wonder',\n",
       " ' For a while the hobbits continued to talk and think of the past journey and of the perils that lay ahead but such was the virtue of the land of Rivendell that soon all fear and anxiety was lifted from their minds The future good or ill was not forgotten but ceased to have any power over the present Health and hope grew strong in them and they were content with each good day as it came taking pleasure in every meal and in every word and song',\n",
       " ' So the days slipped away as each morning dawned bright and fair and each evening followed cool and clear But autumn was waning fast slowly the golden light faded to pale silver and the lingering leaves fell from the naked trees A wind began to blow chill from the Misty Mountains to the east',\n",
       " ' The Hunter s Moon waxed round in the night sky and put to flight all the lesser stars But low in the South one star shone red Every night as the Moon waned again it shone brighter and brighter',\n",
       " ' Frodo could see it from his window deep in the heavens burning like a watchful eye that glared above the trees on the brink of the valley The hobbits had been nearly two months in the House of Elrond and November had gone by with the last shreds of autumn and December was passing when the scouts began to return Some had gone north beyond the springs of the Hoarwell into the Ettenmoors and others had gone west and with the help of Aragorn and the Rangers had searched the lands far down the Greyflood as far as Tharbad where the old North Road crossed the river by a ruined town',\n",
       " ' Many had gone east and south and some of these had crossed the Mountains and entered Mirkwood while others had climbed the pass at the source of the Gladden River and had come down into Wilderland and over the Gladden Fields and so at length had reached the old home of Radagast at Rhosgobel Radagast was not there and they had returned over the high pass that was called the Dimrill Stair The sons of Elrond Elladan and Elrohir were the last to return they had made a great journey passing down the Silverlode into a strange country but of their errand they would not speak to any save to Elrond',\n",
       " ' In no region had the messengers discovered any signs or tidings of the Riders or other servants of the Enemy Even from the Eagles of the Misty Mountains they had learned no fresh news Nothing had been seen or heard of Gollum but the wild wolves were still gathering and were hunting again far up the Great River',\n",
       " ' Three of the black horses had been found at once drowned in the flooded Ford On the rocks of the rapids below it searchers discovered the bodies of five more and also a long black cloak slashed and tattered Of the Black Riders no other trace was to be seen and nowhere was their presence to be felt',\n",
       " ' It seemed that they had vanished from the North e Eight out of the Nine are accounted for at least said Gandalf It is rash to be too sure yet I think that we may hope now that the Ringwraiths were scattered and have been obliged to return as best they could to their Master in Mordor empty and shapeless',\n",
       " ' Tf that is so it will be some time before they can begin the hunt again Of course the Enemy has other servants but they will have to journey all the way to the borders of Rivendell before they can pick up our trail And if we are careful that will be hard to find',\n",
       " ' But we must delay no longer Elrond summoned the hobbits to him He looked gravely at Frodo',\n",
       " ' The time has come he said If the Ring is to set out it must go soon But those who go with it must not count on their errand being aided by war or force',\n",
       " ' They must pass into the domain of the Enemy far from aid Do you still hold to your word Frodo that you will be the Ring bearer I do said Frodo I will go with Sam',\n",
       " ' Then I cannot help you much not even with counsel said Elrond I can foresee very little of your road and how your task is to be achieved I do not know The Shadow has crept now to the feet of the Mountains and draws nigh even to the borders of Greyflood and under the Shadow all is dark to me',\n",
       " ' You will meet many foes some open and some disguised and you may find friends upon your way when you least look for it I will send out messages such as I can contrive to those whom I know in the wide world but so perilous are the lands now become that some may well miscarry or come no quicker than you yourself And I will choose you companions to go with you as far as they will']"
      ]
     },
     "execution_count": 56,
     "metadata": {},
     "output_type": "execute_result"
    }
   ],
   "source": [
    "text_simplifier(just_one_test_file)"
   ]
  },
  {
   "cell_type": "code",
   "execution_count": 66,
   "metadata": {},
   "outputs": [],
   "source": [
    "def get_all_text(data_path):\n",
    "    \"\"\"\n",
    "    :Purpose: To run text_simplifier on all text files within a directory\n",
    "    \n",
    "    \n",
    "    :param data_path: a string which is a path to a  file where text is stored. \n",
    "    :type data_path: string\n",
    "    \n",
    "    :return: all the text from all the files without any extra whitespace, newlines, headers, etc. Each file becomes a string in a list\n",
    "    :return type: list of lists of strings\n",
    "    \"\"\"\n",
    "    total_text = []\n",
    "    for filename in os.listdir(data_path):\n",
    "        if (filename != \".DS_Store\"):\n",
    "            print(f\"Importing from file: {filename}\")\n",
    "            text_of_one_file = text_simplifier(data_path+filename)\n",
    "            total_text.append(text_of_one_file)\n",
    "    #total_text_joined = [\"\".join(sublist) for sublist in total_text]\n",
    "    total_text_joined = [j for i in total_text for j in i]\n",
    "    return total_text_joined"
   ]
  },
  {
   "cell_type": "code",
   "execution_count": 67,
   "metadata": {},
   "outputs": [
    {
     "name": "stdout",
     "output_type": "stream",
     "text": [
      "Importing from file: fotr_short1.txt\n",
      "Importing from file: fotr_short2.txt\n",
      "['It will do well if it ever comes to that said Frodo Ah said Sam And where will they live That s what I often wonder', ' For a while the hobbits continued to talk and think of the past journey and of the perils that lay ahead but such was the virtue of the land of Rivendell that soon all fear and anxiety was lifted from their minds The future good or ill was not forgotten but ceased to have any power over the present Health and hope grew strong in them and they were content with each good day as it came taking pleasure in every meal and in every word and song', ' So the days slipped away as each morning dawned bright and fair and each evening followed cool and clear But autumn was waning fast slowly the golden light faded to pale silver and the lingering leaves fell from the naked trees A wind began to blow chill from the Misty Mountains to the east', ' The Hunter s Moon waxed round in the night sky and put to flight all the lesser stars But low in the South one star shone red Every night as the Moon waned again it shone brighter and brighter', ' Frodo could see it from his window deep in the heavens burning like a watchful eye that glared above the trees on the brink of the valley The hobbits had been nearly two months in the House of Elrond and November had gone by with the last shreds of autumn and December was passing when the scouts began to return Some had gone north beyond the springs of the Hoarwell into the Ettenmoors and others had gone west and with the help of Aragorn and the Rangers had searched the lands far down the Greyflood as far as Tharbad where the old North Road crossed the river by a ruined town', ' Many had gone east and south and some of these had crossed the Mountains and entered Mirkwood while others had climbed the pass at the source of the Gladden River and had come down into Wilderland and over the Gladden Fields and so at length had reached the old home of Radagast at Rhosgobel Radagast was not there and they had returned over the high pass that was called the Dimrill Stair The sons of Elrond Elladan and Elrohir were the last to return they had made a great journey passing down the Silverlode into a strange country but of their errand they would not speak to any save to Elrond', ' In no region had the messengers discovered any signs or tidings of the Riders or other servants of the Enemy Even from the Eagles of the Misty Mountains they had learned no fresh news Nothing had been seen or heard of Gollum but the wild wolves were still gathering and were hunting again far up the Great River', ' Three of the black horses had been found at once drowned in the flooded Ford On the rocks of the rapids below it searchers discovered the bodies of five more and also a long black cloak slashed and tattered Of the Black Riders no other trace was to be seen and nowhere was their presence to be felt', ' It seemed that they had vanished from the North e Eight out of the Nine are accounted for at least said Gandalf It is rash to be too sure yet I think that we may hope now that the Ringwraiths were scattered and have been obliged to return as best they could to their Master in Mordor empty and shapeless', ' Tf that is so it will be some time before they can begin the hunt again Of course the Enemy has other servants but they will have to journey all the way to the borders of Rivendell before they can pick up our trail And if we are careful that will be hard to find', ' But we must delay no longer Elrond summoned the hobbits to him He looked gravely at Frodo', ' The time has come he said If the Ring is to set out it must go soon But those who go with it must not count on their errand being aided by war or force', ' They must pass into the domain of the Enemy far from aid Do you still hold to your word Frodo that you will be the Ring bearer I do said Frodo I will go with Sam', ' Then I cannot help you much not even with counsel said Elrond I can foresee very little of your road and how your task is to be achieved I do not know The Shadow has crept now to the feet of the Mountains and draws nigh even to the borders of Greyflood and under the Shadow all is dark to me', ' You will meet many foes some open and some disguised and you may find friends upon your way when you least look for it I will send out messages such as I can contrive to those whom I know in the wide world but so perilous are the lands now become that some may well miscarry or come no quicker than you yourself And I will choose you companions to go with you as far as they will', 'It will do well if it ever comes to that said Frodo Ah said Sam And where will they live That s what I often wonder', ' For a while the hobbits continued to talk and think of the past journey and of the perils that lay ahead but such was the virtue of the land of Rivendell that soon all fear and anxiety was lifted from their minds The future good or ill was not forgotten but ceased to have any power over the present Health and hope grew strong in them and they were content with each good day as it came taking pleasure in every meal and in every word and song', ' So the days slipped away as each morning dawned bright and fair and each evening followed cool and clear But autumn was waning fast slowly the golden light faded to pale silver and the lingering leaves fell from the naked trees A wind began to blow chill from the Misty Mountains to the east', ' The Hunter s Moon waxed round in the night sky and put to flight all the lesser stars But low in the South one star shone red Every night as the Moon waned again it shone brighter and brighter', ' Frodo could see it from his window deep in the heavens burning like a watchful eye that glared above the trees on the brink of the valley The hobbits had been nearly two months in the House of Elrond and November had gone by with the last shreds of autumn and December was passing when the scouts began to return Some had gone north beyond the springs of the Hoarwell into the Ettenmoors and others had gone west and with the help of Aragorn and the Rangers had searched the lands far down the Greyflood as far as Tharbad where the old North Road crossed the river by a ruined town', ' Many had gone east and south and some of these had crossed the Mountains and entered Mirkwood while others had climbed the pass at the source of the Gladden River and had come down into Wilderland and over the Gladden Fields and so at length had reached the old home of Radagast at Rhosgobel Radagast was not there and they had returned over the high pass that was called the Dimrill Stair The sons of Elrond Elladan and Elrohir were the last to return they had made a great journey passing down the Silverlode into a strange country but of their errand they would not speak to any save to Elrond', ' In no region had the messengers discovered any signs or tidings of the Riders or other servants of the Enemy Even from the Eagles of the Misty Mountains they had learned no fresh news Nothing had been seen or heard of Gollum but the wild wolves were still gathering and were hunting again far up the Great River', ' Three of the black horses had been found at once drowned in the flooded Ford On the rocks of the rapids below it searchers discovered the bodies of five more and also a long black cloak slashed and tattered Of the Black Riders no other trace was to be seen and nowhere was their presence to be felt', ' It seemed that they had vanished from the North e Eight out of the Nine are accounted for at least said Gandalf It is rash to be too sure yet I think that we may hope now that the Ringwraiths were scattered and have been obliged to return as best they could to their Master in Mordor empty and shapeless', ' Tf that is so it will be some time before they can begin the hunt again Of course the Enemy has other servants but they will have to journey all the way to the borders of Rivendell before they can pick up our trail And if we are careful that will be hard to find', ' But we must delay no longer Elrond summoned the hobbits to him He looked gravely at Frodo', ' The time has come he said If the Ring is to set out it must go soon But those who go with it must not count on their errand being aided by war or force', ' They must pass into the domain of the Enemy far from aid Do you still hold to your word Frodo that you will be the Ring bearer I do said Frodo I will go with Sam', ' Then I cannot help you much not even with counsel said Elrond I can foresee very little of your road and how your task is to be achieved I do not know The Shadow has crept now to the feet of the Mountains and draws nigh even to the borders of Greyflood and under the Shadow all is dark to me', ' You will meet many foes some open and some disguised and you may find friends upon your way when you least look for it I will send out messages such as I can contrive to those whom I know in the wide world but so perilous are the lands now become that some may well miscarry or come no quicker than you yourself And I will choose you companions to go with you as far as they will']\n"
     ]
    }
   ],
   "source": [
    "print(get_all_text(data_folder))"
   ]
  },
  {
   "cell_type": "code",
   "execution_count": 25,
   "metadata": {},
   "outputs": [
    {
     "ename": "SyntaxError",
     "evalue": "invalid syntax (<ipython-input-25-8999904d5b56>, line 2)",
     "output_type": "error",
     "traceback": [
      "\u001b[0;36m  File \u001b[0;32m\"<ipython-input-25-8999904d5b56>\"\u001b[0;36m, line \u001b[0;32m2\u001b[0m\n\u001b[0;31m    >> list of strings\u001b[0m\n\u001b[0m     ^\u001b[0m\n\u001b[0;31mSyntaxError\u001b[0m\u001b[0;31m:\u001b[0m invalid syntax\n"
     ]
    }
   ],
   "source": [
    "get_all_text(data_folder)\n",
    ">> list of strings\n",
    "For each string, break into sets of 200 words\n",
    "Padd if needed\n",
    "Load these as the first column of \n",
    "\n",
    "df = pd.DataFrame(, columns=[''])\n",
    "observations['tokens'] = observations['text'].apply(simple_preprocess)\n",
    "\n",
    "\n",
    "\n",
    "\n",
    "Lowercase the data\n",
    "remove stopwords (look up here to see the more sophisticated way: https://towardsdatascience.com/how-to-train-custom-word-embeddings-using-gpu-on-aws-f62727a1e3f6)\n"
   ]
  },
  {
   "cell_type": "code",
   "execution_count": null,
   "metadata": {},
   "outputs": [],
   "source": [
    "implement gensim.models.phrases to detect and include 2+ word phrases in the dataset\n",
    "setup AWS P3 (or other) instance\n",
    "Split the data on sentences? Paragraphs? Larger gaps? Read up on the internet to motivate this.  \n",
    "Do all the examples need to be the same length? There are several ways of dealing with this.  Choose the best one.  \n",
    "    pre-padding vs. post_padding\n",
    "    length of example\n"
   ]
  },
  {
   "cell_type": "code",
   "execution_count": 68,
   "metadata": {},
   "outputs": [
    {
     "name": "stdout",
     "output_type": "stream",
     "text": [
      "Importing from file: fotr_short1.txt\n",
      "Importing from file: fotr_short2.txt\n",
      "Word2Vec(vocab=42, size=100, alpha=0.025)\n"
     ]
    }
   ],
   "source": [
    "def create_and_save_model(data_folder):\n",
    "    \"\"\"\n",
    "    :Purpose: create an embedding from a set of text data \n",
    "    \n",
    "    \n",
    "    :param data_path: a string which is a path to a folder where text is stored. \n",
    "    :type data_path: string\n",
    "    \n",
    "    :return: returns a gensim embedding layer which represents every distinct word in a corpus as a vector of length \"size\" \n",
    "    :return type: gensim.models.word2vec.Word2Vec\n",
    "    \"\"\"\n",
    "    \n",
    "    # define training data\n",
    "    documents = get_all_text(data_folder)\n",
    "    # train model\n",
    "    model = Word2Vec(documents, sg=0, size=100, window=5, min_count=2, workers=4)\n",
    "    # sg = 1 gives us skip-gram\n",
    "    # Size gives us the length of the embedding\n",
    "    # Window is \"The maximum distance between the current and predicted word within a sentence\" which I believe is the skip size. \n",
    "    # min_count (int) – Ignores all words with total frequency lower than this\n",
    "\n",
    "    # summarize the loaded model\n",
    "    print(model)\n",
    "    # summarize vocabulary\n",
    "#    words = list(model.wv.vocab)\n",
    "#    print(words)\n",
    "    # access vector for one word\n",
    "#    print(model['river'])\n",
    "    # save model\n",
    "    model.save('model.bin')\n",
    "    # load model\n",
    "#    new_model = Word2Vec.load('model.bin')\n",
    "#    print(new_model)\n",
    "    return model\n",
    "\n",
    "model = create_and_save_model(data_folder)"
   ]
  },
  {
   "cell_type": "code",
   "execution_count": 19,
   "metadata": {},
   "outputs": [
    {
     "data": {
      "text/plain": [
       "[('beg', 0.834892749786377),\n",
       " ('glistened', 0.8346136808395386),\n",
       " ('deeds', 0.8117547035217285),\n",
       " ('Are', 0.7627807259559631),\n",
       " ('bottles', 0.6289389133453369),\n",
       " ('excitement', 0.6256237030029297),\n",
       " ('neck', 0.6228118538856506),\n",
       " ('intend', 0.591126561164856),\n",
       " ('proved', 0.5885116457939148),\n",
       " ('Eldest', 0.5859735012054443)]"
      ]
     },
     "execution_count": 19,
     "metadata": {},
     "output_type": "execute_result"
    }
   ],
   "source": [
    "model.wv.most_similar('woods')\n",
    "model.wv.most_similar(negative=['beasts'])\n"
   ]
  },
  {
   "cell_type": "code",
   "execution_count": 20,
   "metadata": {},
   "outputs": [
    {
     "name": "stderr",
     "output_type": "stream",
     "text": [
      "/anaconda3/lib/python3.6/site-packages/ipykernel_launcher.py:4: DeprecationWarning: Call to deprecated `__getitem__` (Method will be removed in 4.0.0, use self.wv.__getitem__() instead).\n",
      "  after removing the cwd from sys.path.\n"
     ]
    },
    {
     "data": {
      "image/png": "[encoded data removed]",
      "text/plain": [
       "<matplotlib.figure.Figure at 0x1a17e2d438>"
      ]
     },
     "metadata": {},
     "output_type": "display_data"
    }
   ],
   "source": [
    "def PCA_scatter(model):\n",
    "\n",
    "    # fit a 2d PCA model to the vectors\n",
    "    X = model[model.wv.vocab]\n",
    "    pca = PCA(n_components=2)\n",
    "    result = pca.fit_transform(X)\n",
    "    # create a scatter plot of the projection\n",
    "    pyplot.scatter(result[:, 0], result[:, 1])\n",
    "    words = list(model.wv.vocab)\n",
    "    for i, word in enumerate(words[20:40]): # This has been changed so we only show 20 labels. \n",
    "        pyplot.annotate(word, xy=(result[i, 0], result[i, 1]))\n",
    "    pyplot.show()\n",
    "\n",
    "PCA_scatter(model)"
   ]
  },
  {
   "cell_type": "code",
   "execution_count": 22,
   "metadata": {},
   "outputs": [
    {
     "name": "stderr",
     "output_type": "stream",
     "text": [
      "/anaconda3/lib/python3.6/site-packages/ipykernel_launcher.py:7: DeprecationWarning: Call to deprecated `__getitem__` (Method will be removed in 4.0.0, use self.wv.__getitem__() instead).\n",
      "  import sys\n"
     ]
    },
    {
     "data": {
      "image/png": "[encoded data removed]",
      "text/plain": [
       "<matplotlib.figure.Figure at 0x1a17e4b668>"
      ]
     },
     "metadata": {},
     "output_type": "display_data"
    }
   ],
   "source": [
    "characters = ['Frodo', 'Sam', 'Aragorn', 'Elrond']\n",
    "\n",
    "def PCA_for_specific_words(list_of_specific_words):\n",
    "    vocab = list(model.wv.vocab)\n",
    "    specific_words = list(filter(lambda x: x in list_of_specific_words, vocab))\n",
    "\n",
    "    X = model[specific_words]\n",
    "    cluster_num = 3\n",
    "\n",
    "    kmeans = KMeans(n_clusters=cluster_num, random_state=42).fit(X)\n",
    "    cluster = kmeans.predict(X)\n",
    "\n",
    "    pca = PCA(n_components=2, random_state=42, whiten=True)\n",
    "    clf = pca.fit_transform(X)\n",
    "    tmp = pd.DataFrame(clf, index=specific_words, columns=['x', 'y'])\n",
    "\n",
    "    pyplot.scatter(clf[:, 0], clf[:, 1])\n",
    "    for i, word in enumerate(specific_words):\n",
    "        pyplot.annotate(word, xy=(clf[i, 0], clf[i, 1]))\n",
    "    pyplot.show()\n",
    "    \n",
    "PCA_for_specific_words(characters)"
   ]
  },
  {
   "cell_type": "code",
   "execution_count": null,
   "metadata": {},
   "outputs": [],
   "source": []
  },
  {
   "cell_type": "code",
   "execution_count": null,
   "metadata": {},
   "outputs": [],
   "source": []
  },
  {
   "cell_type": "code",
   "execution_count": null,
   "metadata": {},
   "outputs": [],
   "source": []
  }
 ],
 "metadata": {
  "kernelspec": {
   "display_name": "Python 3",
   "language": "python",
   "name": "python3"
  },
  "language_info": {
   "codemirror_mode": {
    "name": "ipython",
    "version": 3
   },
   "file_extension": ".py",
   "mimetype": "text/x-python",
   "name": "python",
   "nbconvert_exporter": "python",
   "pygments_lexer": "ipython3",
   "version": "3.6.4"
  }
 },
 "nbformat": 4,
 "nbformat_minor": 2
}
