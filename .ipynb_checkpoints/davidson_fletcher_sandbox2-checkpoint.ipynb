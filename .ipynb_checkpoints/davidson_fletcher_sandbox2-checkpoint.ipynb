{
 "cells": [
  {
   "cell_type": "code",
   "execution_count": 4,
   "metadata": {},
   "outputs": [],
   "source": [
    "#Imlement LDA\n",
    "\n",
    "#What is the difference between the four different embedding_creators?\n"
   ]
  },
  {
   "cell_type": "code",
   "execution_count": 5,
   "metadata": {},
   "outputs": [],
   "source": [
    "# pip install gensim\n",
    "# pip install --upgrade gensim\n",
    "# pip install sklearn\n",
    "\n",
    "from __future__ import print_function\n",
    "\n",
    "\n",
    "import re\n",
    "import os\n",
    "\n",
    "import pandas as pd\n",
    "\n",
    "from gensim.models import Word2Vec\n",
    "from gensim.models import Phrases\n",
    "from gensim.models.phrases import Phraser\n",
    "\n",
    "from gensim.utils import simple_preprocess\n",
    "from gensim import corpora, models, similarities, matutils\n",
    "from gensim.parsing.preprocessing import remove_stopwords\n",
    "\n",
    "from sklearn.decomposition import PCA\n",
    "from sklearn.cluster import KMeans\n",
    "from sklearn.feature_extraction.text import CountVectorizer\n",
    "\n",
    "from matplotlib import pyplot\n",
    "\n",
    "# logging for gensim (set to INFO)\n",
    "import logging\n",
    "#logging.basicConfig(format='%(asctime)s : %(levelname)s : %(message)s', level=logging.INFO)\n"
   ]
  },
  {
   "cell_type": "code",
   "execution_count": 6,
   "metadata": {},
   "outputs": [],
   "source": [
    "data_folder = 'short_data/'\n",
    "just_one_test_file = 'short_data/Tolkein/fotr_short2.txt'"
   ]
  },
  {
   "cell_type": "code",
   "execution_count": 7,
   "metadata": {},
   "outputs": [],
   "source": [
    "def text_simplifier(one_file_path, document_length=100):\n",
    "    \"\"\"\n",
    "    :Purpose: To take a filepath and return a cleaned string of all the text contained inside.  This is not a complete pre-processing or tokenization.  \n",
    "    \n",
    "    \n",
    "    :param one_file_path: a string which is a path to one file where text is stored. \n",
    "    :type one_file_path: string\n",
    "\n",
    "    :param document_length: default = 100, this integer determines the number of words in each document\n",
    "    :type document_length: int\n",
    "    \n",
    "    :return: all the text from the file without any extra whitespace, newlines, headers, etc. separated out into lists, each of which contains three sentences with words returned as separate strings. \n",
    "    :return type: list of lists of strings\n",
    "    \"\"\"\n",
    "    \n",
    "    # A regex to keep only the alphabetical characters.\n",
    "    #stripper = re.compile('[^a-zA-Z\\.]') # Use to keep periods in\n",
    "    stripper = re.compile('[^a-zA-Z]')  # Use to remove periods also \n",
    "    lines = [line.rstrip('\\n') for line in open(one_file_path)]\n",
    "    stripped_lines = []\n",
    "    for line in lines:\n",
    "        stripped_line = stripper.sub(' ', line)\n",
    "        stripped_lines.append(stripped_line)\n",
    "    stripped_lines = stripped_lines[10:]\n",
    "\n",
    "    cleaned_lines = list(filter(lambda x: x != ' uc  u      ', stripped_lines))\n",
    "    combined_clean = ' '.join(cleaned_lines)\n",
    "    white_stripped_clean = ' '.join(combined_clean.split())\n",
    "    to_lower = white_stripped_clean.lower()\n",
    "    no_stopwords = remove_stopwords(to_lower)\n",
    "    preprocessed = simple_preprocess(no_stopwords,deacc=False)\n",
    "#    print(type(preprocessed[0]))\n",
    "#    print(preprocessed)\n",
    "    documents = [preprocessed[i:i+document_length] for i in range(0,len(preprocessed), document_length)]\n",
    "\n",
    "    return documents\n",
    "\n",
    "#text_simplifier(just_one_test_file, document_length=100)\n"
   ]
  },
  {
   "cell_type": "code",
   "execution_count": 8,
   "metadata": {},
   "outputs": [],
   "source": [
    "def get_all_text(data_path):\n",
    "    \"\"\"\n",
    "    :Purpose: To run text_simplifier on all text files within a directory\n",
    "    \n",
    "    \n",
    "    :param data_path: a string which is a path to a  file where text is stored. \n",
    "    :type data_path: string\n",
    "    \n",
    "    :return: all the text from all the files without any extra whitespace, newlines, headers, etc. Each file becomes a string in a list\n",
    "    :return type: list of lists of strings\n",
    "    \"\"\"\n",
    "    total_text = []\n",
    "    for filename in os.listdir(data_path):\n",
    "        if (filename != \".DS_Store\"):\n",
    "            print(f\"Importing from file: {filename}\")\n",
    "            text_of_one_file = text_simplifier(data_path+filename, document_length=100)            \n",
    "            total_text.append(text_of_one_file)\n",
    "    #total_text_joined = [sublist.join() for sublist in total_text]\n",
    "    total_text_joined = [j for i in total_text for j in i]\n",
    "#    observations = pd.DataFrame({'documents': total_text_joined, 'author' : data_path})\n",
    "#    observations['preprocessed']= observations['documents'].apply(simple_preprocess)\n",
    "#    print(observations)\n",
    "    \n",
    "    return total_text_joined"
   ]
  },
  {
   "cell_type": "code",
   "execution_count": 9,
   "metadata": {},
   "outputs": [],
   "source": [
    "def create_and_save_model(data_folder, filename):\n",
    "    \"\"\"\n",
    "    :Purpose: create an embedding from a set of text data, Save the embedding as a correctly named model\n",
    "    \n",
    "    \n",
    "    :param data_folder: a string which is a path to a folder where text is stored. \n",
    "    :type data_folder: string\n",
    "    \n",
    "    :param filename: the sub_folder containing a particular author's works. \n",
    "    :type filename: string\n",
    "\n",
    "    :return: returns a gensim embedding layer which represents every distinct word in a corpus as a vector of length \"size\" \n",
    "    :return type: gensim.models.word2vec.Word2Vec\n",
    "    \"\"\"\n",
    "    \n",
    "    data_path = data_folder+filename+'/'\n",
    "    # define training data\n",
    "    documents = get_all_text(data_path)\n",
    "#    sentences = [['this', 'is', 'the', 'first', 'sentence', 'for', 'word2vec'],\n",
    "#\t\t\t['this', 'is', 'the', 'second', 'sentence'],\n",
    "#\t\t\t['yet', 'another', 'sentence'],\n",
    "#\t\t\t['one', 'more', 'sentence'],\n",
    "#\t\t\t['and', 'the', 'final', 'sentence']]\n",
    "    # train model\n",
    "    bigram_transformer = Phrases(documents)\n",
    "    bigrams = Phraser(bigram_transformer)\n",
    "    model = Word2Vec(bigrams[documents], sg=1, size=100, window=5, min_count=1, workers=4)\n",
    "    # sg = 1 gives us skip-gram\n",
    "    # Size gives us the length of the embedding\n",
    "    # Window is \"The maximum distance between the current and predicted word within a sentence\" which I believe is the skip size. \n",
    "    # min_count (int) – Ignores all words with total frequency lower than this\n",
    "\n",
    "    # summarize the loaded model\n",
    "    print(model)\n",
    "    # summarize vocabulary\n",
    "#    words = list(model.wv.vocab)\n",
    "#    print(words)\n",
    "    # access vector for one word\"\n",
    "#    print(model['river'])\n",
    "    # save model\n",
    "    model.save('model_'+filename+'.bin')\n",
    "    # load model\n",
    "#    new_model = Word2Vec.load('model.bin')\n",
    "#    print(new_model)\n",
    "#    return mo"
   ]
  },
  {
   "cell_type": "code",
   "execution_count": 10,
   "metadata": {},
   "outputs": [
    {
     "name": "stdout",
     "output_type": "stream",
     "text": [
      "Creating a model for Austen:\n",
      "\n",
      "Importing from file: austen_short1.txt\n",
      "Importing from file: austen_short2.txt\n",
      "Word2Vec(vocab=492, size=100, alpha=0.025)\n",
      "\n",
      "Creating a model for Tolkein:\n",
      "\n",
      "Importing from file: fotr_short1.txt\n",
      "Importing from file: fotr_short2.txt\n",
      "Word2Vec(vocab=261, size=100, alpha=0.025)\n",
      "\n"
     ]
    }
   ],
   "source": [
    "def create_all_models(data_folder):\n",
    "    \"\"\"\n",
    "    :Purpose: To create embeddings from all the authors whose works are in the folder, \n",
    "    save all the embeddings with appropriate filenames and return a list of the authors \n",
    "    whose work has been used. \n",
    "    \n",
    "    :param data_folder: a string which is a path to a folder where text is stored. \n",
    "    :type data_folder: string\n",
    "    \n",
    "    :return: a list of the authors whose works have been made into embeddings\n",
    "    :return type:  list of strings\n",
    "    \"\"\"\n",
    "    authors_list = []\n",
    "    for filename in os.listdir(data_folder):\n",
    "        if (filename != \".DS_Store\"):\n",
    "            print(f\"Creating a model for {filename}:\")\n",
    "            print()\n",
    "            create_and_save_model(data_folder, filename)\n",
    "            print()\n",
    "            authors_list.append(filename)\n",
    "    return authors_list\n",
    "list_of_authors = create_all_models(data_folder)"
   ]
  },
  {
   "cell_type": "code",
   "execution_count": 11,
   "metadata": {},
   "outputs": [],
   "source": [
    "def author_model_dictionary_generator(list_of_authors):\n",
    "    \"\"\"\n",
    "    :Purpose: To create a dictionary of all the various author embeddings with the authors as the keys.\n",
    "    \n",
    "    :param list_of_authors: the list of different embeddings \n",
    "    :type list_of_authors: list of strings\n",
    "    \n",
    "    :return: a python dictionary with author names as keys and embeddings created from their work as contents\n",
    "    :return type: python dictionary \n",
    "    \"\"\"\n",
    "\n",
    "    model_list = []\n",
    "    for author_index in range(0,len(list_of_authors)):\n",
    "        one_model = Word2Vec.load('model_'+list_of_authors[author_index]+'.bin')\n",
    "        model_list.append(one_model)\n",
    "    author_model_dictionary = dict(zip(list_of_authors, model_list))\n",
    "    return author_model_dictionary\n",
    "author_model_dictionary = author_model_dictionary_generator(list_of_authors)"
   ]
  },
  {
   "cell_type": "code",
   "execution_count": 12,
   "metadata": {},
   "outputs": [
    {
     "data": {
      "text/plain": [
       "[('britain', 0.2710121273994446),\n",
       " ('hot', 0.2630371153354645),\n",
       " ('printed', 0.22703707218170166),\n",
       " ('shakespeare', 0.21296140551567078),\n",
       " ('scarcely', 0.21065479516983032),\n",
       " ('reforms', 0.1994336098432541),\n",
       " ('fate', 0.1944923996925354),\n",
       " ('windless', 0.19445110857486725),\n",
       " ('issue', 0.19081830978393555),\n",
       " ('dexterity', 0.18965721130371094)]"
      ]
     },
     "execution_count": 12,
     "metadata": {},
     "output_type": "execute_result"
    }
   ],
   "source": [
    "author_model_dictionary['Austen'].wv.most_similar('pleased')\n",
    "author_model_dictionary['Austen'].wv.most_similar(negative=['pleased'])\n"
   ]
  },
  {
   "cell_type": "code",
   "execution_count": null,
   "metadata": {},
   "outputs": [],
   "source": []
  },
  {
   "cell_type": "code",
   "execution_count": null,
   "metadata": {},
   "outputs": [],
   "source": []
  },
  {
   "cell_type": "code",
   "execution_count": 13,
   "metadata": {},
   "outputs": [
    {
     "name": "stderr",
     "output_type": "stream",
     "text": [
      "/anaconda3/lib/python3.6/site-packages/ipykernel_launcher.py:4: DeprecationWarning: Call to deprecated `__getitem__` (Method will be removed in 4.0.0, use self.wv.__getitem__() instead).\n",
      "  after removing the cwd from sys.path.\n"
     ]
    },
    {
     "data": {
      "image/png": "[encoded data removed]",
      "text/plain": [
       "<matplotlib.figure.Figure at 0x1a159fcb38>"
      ]
     },
     "metadata": {},
     "output_type": "display_data"
    }
   ],
   "source": [
    "def PCA_scatter(model):\n",
    "\n",
    "    # fit a 2d PCA model to the vectors\n",
    "    X = model[model.wv.vocab]\n",
    "    pca = PCA(n_components=2)\n",
    "    result = pca.fit_transform(X)\n",
    "    # create a scatter plot of the projection\n",
    "    pyplot.scatter(result[45:60, 0], result[45:60, 1])\n",
    "    words = list(model.wv.vocab)\n",
    "    for i, word in enumerate(words[45:60]): # This has been changed so we only show 20 labels. \n",
    "        pyplot.annotate(word, xy=(result[i, 0], result[i, 1]))\n",
    "    pyplot.show()\n",
    "\n",
    "    \n",
    "PCA_scatter(author_model_dictionary['Austen'])"
   ]
  },
  {
   "cell_type": "code",
   "execution_count": 14,
   "metadata": {},
   "outputs": [
    {
     "ename": "NameError",
     "evalue": "name 'model' is not defined",
     "output_type": "error",
     "traceback": [
      "\u001b[0;31m---------------------------------------------------------------------------\u001b[0m",
      "\u001b[0;31mNameError\u001b[0m                                 Traceback (most recent call last)",
      "\u001b[0;32m<ipython-input-14-ac0fa6b02300>\u001b[0m in \u001b[0;36m<module>\u001b[0;34m()\u001b[0m\n\u001b[1;32m     20\u001b[0m     \u001b[0mpyplot\u001b[0m\u001b[0;34m.\u001b[0m\u001b[0mshow\u001b[0m\u001b[0;34m(\u001b[0m\u001b[0;34m)\u001b[0m\u001b[0;34m\u001b[0m\u001b[0m\n\u001b[1;32m     21\u001b[0m \u001b[0;34m\u001b[0m\u001b[0m\n\u001b[0;32m---> 22\u001b[0;31m \u001b[0mPCA_for_specific_words\u001b[0m\u001b[0;34m(\u001b[0m\u001b[0mcharacters\u001b[0m\u001b[0;34m)\u001b[0m\u001b[0;34m\u001b[0m\u001b[0m\n\u001b[0m",
      "\u001b[0;32m<ipython-input-14-ac0fa6b02300>\u001b[0m in \u001b[0;36mPCA_for_specific_words\u001b[0;34m(list_of_specific_words)\u001b[0m\n\u001b[1;32m      2\u001b[0m \u001b[0;34m\u001b[0m\u001b[0m\n\u001b[1;32m      3\u001b[0m \u001b[0;32mdef\u001b[0m \u001b[0mPCA_for_specific_words\u001b[0m\u001b[0;34m(\u001b[0m\u001b[0mlist_of_specific_words\u001b[0m\u001b[0;34m)\u001b[0m\u001b[0;34m:\u001b[0m\u001b[0;34m\u001b[0m\u001b[0m\n\u001b[0;32m----> 4\u001b[0;31m     \u001b[0mvocab\u001b[0m \u001b[0;34m=\u001b[0m \u001b[0mlist\u001b[0m\u001b[0;34m(\u001b[0m\u001b[0mmodel\u001b[0m\u001b[0;34m.\u001b[0m\u001b[0mwv\u001b[0m\u001b[0;34m.\u001b[0m\u001b[0mvocab\u001b[0m\u001b[0;34m)\u001b[0m\u001b[0;34m\u001b[0m\u001b[0m\n\u001b[0m\u001b[1;32m      5\u001b[0m     \u001b[0mspecific_words\u001b[0m \u001b[0;34m=\u001b[0m \u001b[0mlist\u001b[0m\u001b[0;34m(\u001b[0m\u001b[0mfilter\u001b[0m\u001b[0;34m(\u001b[0m\u001b[0;32mlambda\u001b[0m \u001b[0mx\u001b[0m\u001b[0;34m:\u001b[0m \u001b[0mx\u001b[0m \u001b[0;32min\u001b[0m \u001b[0mlist_of_specific_words\u001b[0m\u001b[0;34m,\u001b[0m \u001b[0mvocab\u001b[0m\u001b[0;34m)\u001b[0m\u001b[0;34m)\u001b[0m\u001b[0;34m\u001b[0m\u001b[0m\n\u001b[1;32m      6\u001b[0m \u001b[0;34m\u001b[0m\u001b[0m\n",
      "\u001b[0;31mNameError\u001b[0m: name 'model' is not defined"
     ]
    }
   ],
   "source": [
    "characters = ['Frodo', 'Sam', 'Aragorn', 'Elrond']\n",
    "\n",
    "def PCA_for_specific_words(list_of_specific_words):\n",
    "    vocab = list(model.wv.vocab)\n",
    "    specific_words = list(filter(lambda x: x in list_of_specific_words, vocab))\n",
    "\n",
    "    X = model[specific_words]\n",
    "    cluster_num = 3\n",
    "\n",
    "    kmeans = KMeans(n_clusters=cluster_num, random_state=42).fit(X)\n",
    "    cluster = kmeans.predict(X)\n",
    "\n",
    "    pca = PCA(n_components=2, random_state=42, whiten=True)\n",
    "    clf = pca.fit_transform(X)\n",
    "    tmp = pd.DataFrame(clf, index=specific_words, columns=['x', 'y'])\n",
    "\n",
    "    pyplot.scatter(clf[:, 0], clf[:, 1])\n",
    "    for i, word in enumerate(specific_words):\n",
    "        pyplot.annotate(word, xy=(clf[i, 0], clf[i, 1]))\n",
    "    pyplot.show()\n",
    "    \n",
    "PCA_for_specific_words(characters)"
   ]
  },
  {
   "cell_type": "code",
   "execution_count": null,
   "metadata": {},
   "outputs": [],
   "source": []
  },
  {
   "cell_type": "code",
   "execution_count": null,
   "metadata": {},
   "outputs": [],
   "source": []
  },
  {
   "cell_type": "code",
   "execution_count": null,
   "metadata": {},
   "outputs": [],
   "source": []
  },
  {
   "cell_type": "code",
   "execution_count": null,
   "metadata": {},
   "outputs": [],
   "source": []
  },
  {
   "cell_type": "code",
   "execution_count": 18,
   "metadata": {},
   "outputs": [],
   "source": [
    "data_folder_LDA = 'data/Tolkein/'"
   ]
  },
  {
   "cell_type": "code",
   "execution_count": null,
   "metadata": {},
   "outputs": [],
   "source": [
    "just_one_test_file_LDA = 'short_data/Tolkein/fotr_short2.txt'"
   ]
  },
  {
   "cell_type": "code",
   "execution_count": 39,
   "metadata": {},
   "outputs": [
    {
     "name": "stdout",
     "output_type": "stream",
     "text": [
      "Importing from file: fotr_short1.txt\n",
      "Importing from file: fotr_short2.txt\n"
     ]
    }
   ],
   "source": [
    "documents_for_LDA = get_all_text(data_folder_LDA)\n"
   ]
  },
  {
   "cell_type": "code",
   "execution_count": 24,
   "metadata": {},
   "outputs": [],
   "source": [
    "\n",
    "data_documents = [\" \".join(sublist) for sublist in documents_for_LDA]\n"
   ]
  },
  {
   "cell_type": "code",
   "execution_count": null,
   "metadata": {},
   "outputs": [],
   "source": [
    "LDA\n",
    "#data_documents needs to be a list of strings\n",
    "# Brendan's code for LDA is here:\n",
    "# https://github.com/thisismetis/sf18_ds10/blob/master/class_lectures/week07-fletcher1/05-quiz_labs/LDA.ipynb"
   ]
  },
  {
   "cell_type": "markdown",
   "metadata": {},
   "source": [
    "\n",
    "Document Preprocessing\n",
    "We'll need to generate a term-document matrix of word (token) counts for use in LDA.\n",
    "\n",
    "We'll use sklearn's CountVectorizer to generate our term-document matrix of counts. We'll make use of a few parameters to accomplish the following preprocessing of the text documents all within the CountVectorizer:\n",
    "\n",
    "analyzer=word: Tokenize by word\n",
    "ngram_range=(1,2): Keep all 1 and 2-word grams\n",
    "stop_words=english: Remove all English stop words\n",
    "token_pattern=\\\\b[a-z][a-z]+\\\\b: Match all tokens with 2 or more (strictly) alphabet characters"
   ]
  },
  {
   "cell_type": "markdown",
   "metadata": {},
   "source": []
  },
  {
   "cell_type": "code",
   "execution_count": 26,
   "metadata": {},
   "outputs": [
    {
     "data": {
      "text/plain": [
       "CountVectorizer(analyzer='word', binary=False, decode_error='strict',\n",
       "        dtype=<class 'numpy.int64'>, encoding='utf-8', input='content',\n",
       "        lowercase=True, max_df=1.0, max_features=None, min_df=1,\n",
       "        ngram_range=(1, 2), preprocessor=None, stop_words='english',\n",
       "        strip_accents=None, token_pattern='\\\\b[a-z][a-z]+\\\\b',\n",
       "        tokenizer=None, vocabulary=None)"
      ]
     },
     "execution_count": 26,
     "metadata": {},
     "output_type": "execute_result"
    }
   ],
   "source": [
    "# Create a CountVectorizer for parsing/counting words\n",
    "count_vectorizer = CountVectorizer(ngram_range=(1, 2),  \n",
    "                                   stop_words='english', token_pattern=\"\\\\b[a-z][a-z]+\\\\b\")\n",
    "count_vectorizer.fit(data_documents)"
   ]
  },
  {
   "cell_type": "code",
   "execution_count": 27,
   "metadata": {},
   "outputs": [],
   "source": [
    "# Create the term-document matrix\n",
    "# Transpose it so the terms are the rows\n",
    "counts = count_vectorizer.transform(data_documents).transpose()"
   ]
  },
  {
   "cell_type": "code",
   "execution_count": 28,
   "metadata": {},
   "outputs": [
    {
     "data": {
      "text/plain": [
       "(596, 8)"
      ]
     },
     "execution_count": 28,
     "metadata": {},
     "output_type": "execute_result"
    }
   ],
   "source": [
    "counts.shape\n"
   ]
  },
  {
   "cell_type": "markdown",
   "metadata": {},
   "source": [
    "Convert to gensim\n",
    "We need to convert our sparse scipy matrix to a gensim-friendly object called a Corpus. This is also essential for term-document matrices that are larger than local memory."
   ]
  },
  {
   "cell_type": "code",
   "execution_count": 29,
   "metadata": {},
   "outputs": [],
   "source": [
    "# Convert sparse matrix of counts to a gensim corpus\n",
    "corpus = matutils.Sparse2Corpus(counts)\n"
   ]
  },
  {
   "cell_type": "markdown",
   "metadata": {},
   "source": [
    "Map matrix rows to words (tokens)\n",
    "We need to save a mapping (dict) of row id to word (token) for later use by gensim:"
   ]
  },
  {
   "cell_type": "code",
   "execution_count": 30,
   "metadata": {},
   "outputs": [],
   "source": [
    "id2word = dict((v, k) for k, v in count_vectorizer.vocabulary_.items())\n"
   ]
  },
  {
   "cell_type": "code",
   "execution_count": 31,
   "metadata": {},
   "outputs": [
    {
     "data": {
      "text/plain": [
       "596"
      ]
     },
     "execution_count": 31,
     "metadata": {},
     "output_type": "execute_result"
    }
   ],
   "source": [
    "len(id2word)\n"
   ]
  },
  {
   "cell_type": "markdown",
   "metadata": {},
   "source": [
    "## LDA\n",
    "At this point, we can create an LDA model. It requires our corpus of word counts, mapping of row ids to words, and our selection of num_topics."
   ]
  },
  {
   "cell_type": "code",
   "execution_count": 32,
   "metadata": {},
   "outputs": [],
   "source": [
    "# Create lda model (equivalent to \"fit\" in sklearn)\n",
    "lda = models.LdaModel(corpus=corpus, num_topics=5, minimum_probability=0.03, id2word=id2word, passes=10)\n"
   ]
  },
  {
   "cell_type": "code",
   "execution_count": 33,
   "metadata": {},
   "outputs": [
    {
     "data": {
      "text/plain": [
       "[(0,\n",
       "  '0.016*\"gone\" + 0.012*\"elrond\" + 0.008*\"far\" + 0.008*\"north\" + 0.008*\"pass\" + 0.008*\"river\" + 0.008*\"passing\" + 0.008*\"gladden\" + 0.008*\"return\" + 0.008*\"old\"'),\n",
       " (1,\n",
       "  '0.015*\"shadow\" + 0.015*\"know\" + 0.008*\"said\" + 0.008*\"far\" + 0.008*\"elrond\" + 0.008*\"mountains\" + 0.008*\"come\" + 0.008*\"way\" + 0.008*\"lands\" + 0.008*\"feet\"'),\n",
       " (2,\n",
       "  '0.012*\"frodo\" + 0.012*\"said\" + 0.012*\"black\" + 0.008*\"far\" + 0.008*\"enemy\" + 0.008*\"time\" + 0.008*\"ring\" + 0.008*\"seen\" + 0.004*\"hobbits\" + 0.004*\"mountains\"'),\n",
       " (3,\n",
       "  '0.002*\"gone\" + 0.002*\"far\" + 0.002*\"elrond\" + 0.002*\"mountains\" + 0.002*\"return\" + 0.002*\"said\" + 0.002*\"enemy\" + 0.002*\"north\" + 0.002*\"come\" + 0.002*\"journey\"'),\n",
       " (4,\n",
       "  '0.008*\"said\" + 0.008*\"frodo\" + 0.008*\"brighter\" + 0.008*\"good\" + 0.008*\"moon\" + 0.008*\"shone\" + 0.008*\"night\" + 0.004*\"hope\" + 0.004*\"hobbits\" + 0.004*\"journey\"')]"
      ]
     },
     "execution_count": 33,
     "metadata": {},
     "output_type": "execute_result"
    }
   ],
   "source": [
    "#Let's take a look at what happened. Here are the 5 most important words for each topic we found:\n",
    "lda.print_topics()\n"
   ]
  },
  {
   "cell_type": "code",
   "execution_count": 34,
   "metadata": {},
   "outputs": [
    {
     "data": {
      "text/plain": [
       "<gensim.interfaces.TransformedCorpus at 0x104627710>"
      ]
     },
     "execution_count": 34,
     "metadata": {},
     "output_type": "execute_result"
    }
   ],
   "source": [
    "# Transform the docs from the word space to the topic space (like \"transform\" in sklearn)\n",
    "lda_corpus = lda[corpus]\n",
    "lda_corpus"
   ]
  },
  {
   "cell_type": "code",
   "execution_count": 35,
   "metadata": {},
   "outputs": [],
   "source": [
    "# Store the documents' topic vectors in a list so we can take a peak\n",
    "lda_docs = [doc for doc in lda_corpus]"
   ]
  },
  {
   "cell_type": "markdown",
   "metadata": {},
   "source": [
    "Now we can take a look at the document vectors in the topic space, which are measures of the component of each document along each topic. Thus, at most a document vector can have num_topics=3 nonzero components in the topic space, and most have far fewer."
   ]
  },
  {
   "cell_type": "code",
   "execution_count": 36,
   "metadata": {},
   "outputs": [
    {
     "data": {
      "text/plain": [
       "[[(4, 0.99599564)],\n",
       " [(0, 0.9959941)],\n",
       " [(2, 0.9959927)],\n",
       " [(1, 0.9899888)],\n",
       " [(4, 0.99599564)],\n",
       " [(0, 0.9959941)],\n",
       " [(2, 0.9959927)],\n",
       " [(1, 0.9899888)]]"
      ]
     },
     "execution_count": 36,
     "metadata": {},
     "output_type": "execute_result"
    }
   ],
   "source": [
    "# Check out the document vectors in the topic space for the first 5 documents\n",
    "lda_docs[:15]"
   ]
  },
  {
   "cell_type": "code",
   "execution_count": null,
   "metadata": {},
   "outputs": [],
   "source": []
  },
  {
   "cell_type": "code",
   "execution_count": 38,
   "metadata": {},
   "outputs": [
    {
     "data": {
      "text/plain": [
       "-6.290028649233502"
      ]
     },
     "execution_count": 38,
     "metadata": {},
     "output_type": "execute_result"
    }
   ],
   "source": [
    "# we can quantify the 'fit' of our model, to compare with other corpora, etc.# we ca \n",
    "lda.log_perplexity(corpus)"
   ]
  },
  {
   "cell_type": "markdown",
   "metadata": {},
   "source": [
    "Lower perplexity is better, but the practical utility of LDA is the final word in how happy we are with our model:\n",
    "\n",
    "Is it intuitively associating my documents with my themes?\n",
    "\n",
    "Is it helping me cluster similar documents together?"
   ]
  },
  {
   "cell_type": "code",
   "execution_count": null,
   "metadata": {},
   "outputs": [],
   "source": []
  },
  {
   "cell_type": "code",
   "execution_count": null,
   "metadata": {},
   "outputs": [],
   "source": []
  }
 ],
 "metadata": {
  "kernelspec": {
   "display_name": "Python 3",
   "language": "python",
   "name": "python3"
  },
  "language_info": {
   "codemirror_mode": {
    "name": "ipython",
    "version": 3
   },
   "file_extension": ".py",
   "mimetype": "text/x-python",
   "name": "python",
   "nbconvert_exporter": "python",
   "pygments_lexer": "ipython3",
   "version": "3.6.4"
  }
 },
 "nbformat": 4,
 "nbformat_minor": 2
}
